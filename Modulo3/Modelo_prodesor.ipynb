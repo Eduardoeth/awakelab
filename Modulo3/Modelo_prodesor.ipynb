{
 "cells": [
  {
   "cell_type": "code",
   "execution_count": null,
   "metadata": {},
   "outputs": [],
   "source": [
    "from os import times\n",
    "import random\n",
    "import string\n",
    "from random import randrange, choice\n",
    "from typing import Text"
   ]
  },
  {
   "cell_type": "code",
   "execution_count": 2,
   "metadata": {},
   "outputs": [],
   "source": [
    "class Inventario(object):\n",
    "    def __init__(self, nombre, nombre_archivo):\n",
    "        self.nombre = nombre\n",
    "        self.nombre_archivo = nombre_archivo\n",
    "        self.elemtos = []\n",
    "    \n",
    "    def __crear_archivos(self):\n",
    "        pass\n",
    "    \n",
    "    def apend(self):\n",
    "        pass\n",
    "    \n",
    "    def pop(seldf):\n",
    "        pass\n",
    "    \n",
    "    def contenidos(self):\n",
    "        pass\n",
    "    \n",
    "    def vaciar(self):\n",
    "        pass\n",
    "    \n",
    "    def guardar(self):\n",
    "        pass"
   ]
  },
  {
   "cell_type": "code",
   "execution_count": 3,
   "metadata": {},
   "outputs": [],
   "source": [
    "class InventarioRamos(Inventario):\n",
    "    def __init__(self, nombre, nombre_archivo):\n",
    "        super().__init__(nombre, nombre_archivo)\n",
    "    \n",
    "    def obtener_ramos(self, rango_fechas):\n",
    "        pass"
   ]
  },
  {
   "cell_type": "code",
   "execution_count": 4,
   "metadata": {},
   "outputs": [],
   "source": [
    "class InventarioTipoRamos(Inventario):\n",
    "    def __init__(self, nombre, nombre_archivo):\n",
    "        super().__init__(nombre, nombre_archivo)\n",
    "    \n",
    "    def tipos_de_flores_en_usos(self):\n",
    "        pass\n"
   ]
  },
  {
   "cell_type": "code",
   "execution_count": 5,
   "metadata": {},
   "outputs": [],
   "source": [
    "class InventarioFlores(Inventario):\n",
    "    def __init__(self, nombre, nombre_achivo):\n",
    "        super().__init__()\n",
    "\n",
    "    def append(sef, tipos_ramos):\n",
    "        pass\n",
    "    \n",
    "    def extraer_flor(self, nombre, tamano):\n",
    "        pass\n",
    "\n",
    "    def inventario(self): #dict\n",
    "        pass\n"
   ]
  },
  {
   "cell_type": "code",
   "execution_count": 6,
   "metadata": {},
   "outputs": [],
   "source": [
    "class Flor:\n",
    "    def __init__(self, nombre, tamano):\n",
    "        self.nombre = nombre\n",
    "        self.tamano = tamano\n",
    "    def despachar(self):\n",
    "        pass"
   ]
  },
  {
   "cell_type": "code",
   "execution_count": 7,
   "metadata": {},
   "outputs": [],
   "source": [
    "class TipoRamo:\n",
    "    def __init__(self, nombre, tamano):\n",
    "        self.nombre = nombre\n",
    "        self.tamano = tamano\n",
    "        self.sec_base = sec_base\n",
    "        self.largo_sec_extra = largo_sec_extra\n",
    "    def genera_sec_extra(self):\n",
    "        pass\n"
   ]
  },
  {
   "cell_type": "code",
   "execution_count": 8,
   "metadata": {},
   "outputs": [],
   "source": [
    "class Ramo(TipoRamo):\n",
    "    def __init__(self):\n",
    "        self.sec_extra = __genera_sec_extra(self)\n",
    "        self.ramo\n",
    "        self.fecha_hora = __genera_fecha_hora(self)\n",
    "\n",
    "    def despachar():\n",
    "        pass\n",
    "\n",
    "    def __genera_sec_extra(self):\n",
    "        pass\n",
    "\n",
    "    def __genera_fecha_hora(self):\n",
    "        pass"
   ]
  },
  {
   "cell_type": "code",
   "execution_count": 9,
   "metadata": {},
   "outputs": [],
   "source": [
    "class FabricadorRamos():\n",
    "    def __init__(self):\n",
    "        pass\n",
    "    def generar_ramo(self):\n",
    "        pass\n",
    "    def despachar_ramo(self):\n",
    "        pass"
   ]
  },
  {
   "cell_type": "code",
   "execution_count": 10,
   "metadata": {},
   "outputs": [],
   "source": [
    "class AbastecedorFlores():\n",
    "    def __init__(self):\n",
    "        pass\n",
    "    def generar_flor(self):\n",
    "        pass\n",
    "    def abastece__flor(self):\n",
    "        pass"
   ]
  },
  {
   "cell_type": "code",
   "execution_count": null,
   "metadata": {},
   "outputs": [],
   "source": [
    "for i in range(fabricar_mas_flores):\n",
    "\n",
    "    especie_flor=(random.choice(string.ascii_lowercase))\n",
    "    tamano_flor=(choice([\"S\", \"L\"]))\n",
    "    flor=str(especie_flor)+str(tamano_flor)\n",
    "    #print(\"Tipo de Flor:\",flor)\n",
    "\n",
    "    Flor1 = BodegaFlores(tamano_flor)\n",
    "    Flor1.agregar_elemento(especie_flor)"
   ]
  },
  {
   "cell_type": "code",
   "execution_count": null,
   "metadata": {},
   "outputs": [],
   "source": [
    "#Programa Principal\n",
    "bodega_flores_disponibles = InventarioFlores(\"inventario\", \"inventario_L\")#instancia\n",
    "tipos_de_ramos_en_fabricacion = InventarioTipoRamos()#instancia\n",
    "bodega_ramos_ya_fabricados = InventarioRamos()#instancia\n",
    "jefe_de_compra_de_flores = AbastecedorFlores(bodega_flores_disponibles, tipos_de_ramos_en_fabricacion)\n",
    "jefe_de_produccion = FabricadorRamos(bodega_flores_disponibles, tipos_de_ramos_en_fabricacion, bodega_ramos_ya_fabricados)\n",
    "\n",
    "while True:\n",
    "    flor_a_agregar = jefe_de_compra_de_flores.generar_flor(tipos_de_ramos_en_fabricacion)\n",
    "    jefe_de_compra_de_flores.abastece__flor(flor_a_agregar) #bodega recibio flor nueva\n",
    "\n",
    "    if jefe_de_compra_de_flores() == True:\n",
    "        ramo = jefe_de_produccion.generar_ramo()\n",
    "        jefe_de_produccion.despachar_ramo()\n"
   ]
  }
 ],
 "metadata": {
  "kernelspec": {
   "display_name": "Python 3",
   "language": "python",
   "name": "python3"
  },
  "language_info": {
   "codemirror_mode": {
    "name": "ipython",
    "version": 3
   },
   "file_extension": ".py",
   "mimetype": "text/x-python",
   "name": "python",
   "nbconvert_exporter": "python",
   "pygments_lexer": "ipython3",
   "version": "3.7.1"
  }
 },
 "nbformat": 4,
 "nbformat_minor": 4
}
