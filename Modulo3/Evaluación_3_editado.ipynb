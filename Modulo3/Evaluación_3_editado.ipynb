{
 "cells": [
  {
   "cell_type": "code",
   "execution_count": 20,
   "metadata": {},
   "outputs": [
    {
     "name": "stdout",
     "output_type": "stream",
     "text": [
      "Hemos escrito en el archivo\n"
     ]
    }
   ],
   "source": [
    "contenidos = \"hola\"\n",
    "archivo_salida = open(\"data/datos.txt\", \"a\")\n",
    "archivo_salida.write(contenidos+\"\\n\")\n",
    "print(\"Hemos escrito en el archivo\")\n",
    "archivo_salida.close()"
   ]
  },
  {
   "cell_type": "code",
   "execution_count": 7,
   "metadata": {},
   "outputs": [],
   "source": [
    "import random\n",
    "import time\n",
    "import datetime"
   ]
  },
  {
   "cell_type": "markdown",
   "metadata": {},
   "source": [
    "En este caso cada vez que el archivo se abre para escribir el Puntero queda posicionado al inicio del archivo"
   ]
  },
  {
   "cell_type": "code",
   "execution_count": 8,
   "metadata": {},
   "outputs": [],
   "source": [
    "for i in range(0,10000):\n",
    "    archivo_salida3 = open(\"data/datos_sensor_3.txt\", \"w\")\n",
    "    medicion3 = str(random.randint(28,40))\n",
    "    archivo_salida3.write(medicion3)\n",
    "    archivo_salida3.close()\n",
    "    "
   ]
  },
  {
   "cell_type": "markdown",
   "metadata": {},
   "source": [
    "En este caso cad vez que el archivo se abre para escribir el Puntero queda posicionado al final del archivo"
   ]
  },
  {
   "cell_type": "code",
   "execution_count": 9,
   "metadata": {},
   "outputs": [
    {
     "name": "stdout",
     "output_type": "stream",
     "text": [
      "PELIGRO!! Variable fuera de rango!!\n"
     ]
    }
   ],
   "source": [
    "for i in range(0,10):\n",
    "    tiempo_ahora = datetime.datetime.now()\n",
    "    archivo_salida2 = open(\"data/datos_sensor.txt\", \"a\")\n",
    "    variable = random.randint(28,40)\n",
    "    medicion = str(tiempo_ahora) + \", \" + str(variable)\n",
    "    archivo_salida2.write(medicion+ \"\\n\")\n",
    "    archivo_salida2.close()\n",
    "    if variable > 38:\n",
    "        print(\"PELIGRO!! Variable fuera de rango!!\")\n",
    "    time.sleep(1)"
   ]
  },
  {
   "cell_type": "markdown",
   "metadata": {},
   "source": [
    "Recuperando datos desde un archivo desde Python"
   ]
  },
  {
   "cell_type": "code",
   "execution_count": 10,
   "metadata": {},
   "outputs": [
    {
     "name": "stdout",
     "output_type": "stream",
     "text": [
      "2020-12-03 14:33:58.735600, 31\n",
      "2020-12-03 14:33:59.738076, 31\n",
      "2020-12-03 14:34:00.748705, 38\n",
      "2020-12-03 14:34:01.753885, 37\n",
      "2020-12-03 14:34:02.774225, 34\n",
      "2020-12-03 14:34:03.783667, 37\n",
      "2020-12-03 14:34:04.789068, 35\n",
      "2020-12-03 14:34:05.804276, 38\n",
      "2020-12-03 14:34:06.805127, 39\n",
      "2020-12-03 14:34:07.806911, 32\n",
      "\n"
     ]
    }
   ],
   "source": [
    "archivo_entrada = open('data/datos_sensor.txt', 'r')\n",
    "print(archivo_entrada.read())\n",
    "archivo_entrada.close()"
   ]
  },
  {
   "cell_type": "markdown",
   "metadata": {},
   "source": [
    "Agregando datos a un archivo existente desde Python"
   ]
  },
  {
   "cell_type": "code",
   "execution_count": 11,
   "metadata": {},
   "outputs": [],
   "source": [
    "contenidos = \"\\nEstos datos son agregados para esta clase\"\n",
    "archivo_salida = open(\"data/datos.txt\", \"a\")\n",
    "for i in range(0,100):\n",
    "    archivo_salida.write(contenidos)\n",
    "archivo_salida.close()\n"
   ]
  },
  {
   "cell_type": "markdown",
   "metadata": {},
   "source": [
    "Accediendo a archivos con `with`"
   ]
  },
  {
   "cell_type": "code",
   "execution_count": 13,
   "metadata": {},
   "outputs": [
    {
     "name": "stdout",
     "output_type": "stream",
     "text": [
      "\n"
     ]
    }
   ],
   "source": [
    "with open(\"data/quijote.txt\") as archivo:\n",
    "   quijote = archivo.read()\n",
    "print(quijote)\n"
   ]
  },
  {
   "cell_type": "code",
   "execution_count": 13,
   "metadata": {},
   "outputs": [
    {
     "name": "stdout",
     "output_type": "stream",
     "text": [
      "\n"
     ]
    }
   ],
   "source": [
    "\n",
    "with open(\"data/iris.csv\") as archivo:\n",
    "   iris = archivo.read()\n",
    "print(iris)"
   ]
  },
  {
   "cell_type": "code",
   "execution_count": 14,
   "metadata": {},
   "outputs": [],
   "source": [
    "with open('data/output.txt', 'w') as archivo:\n",
    "    archivo.write('Hola jovenes!')\n"
   ]
  },
  {
   "cell_type": "markdown",
   "metadata": {},
   "source": [
    "Explorando datos de un archivo\n"
   ]
  },
  {
   "cell_type": "code",
   "execution_count": 16,
   "metadata": {},
   "outputs": [
    {
     "name": "stdout",
     "output_type": "stream",
     "text": [
      "0\n",
      " XXXXX\n",
      "0\n",
      "\n",
      "\n",
      "\n",
      "\n",
      "\n",
      "\n",
      "\n",
      "\n",
      "\n",
      "\n",
      "\n",
      "\n",
      "\n",
      "\n",
      "\n",
      "\n",
      "\n",
      "\n"
     ]
    }
   ],
   "source": [
    "with open(\"data/quijote.txt\") as file:\n",
    "    print(len(file.read()))\n",
    "    file.seek(790000)\n",
    "    print(file.read(100), \"XXXXX\")\n",
    "    file.seek(0)\n",
    "    #print(file.read())\n",
    "    print(len(file.read()))\n",
    "    file.seek(0)\n",
    "    otro = file.read(200)\n",
    "    file.seek(0)\n",
    "    for i in range(0,8):\n",
    "        print(file.readline())\n",
    "    file.seek(0)\n",
    "    # comenzar desde el comienzo\n",
    "    for i in range(0,10):\n",
    "        print(file.readline())\n",
    "    file.seek(0)\n",
    "    #busqueda de línea especifica\n",
    "    for i, line in enumerate(file):\n",
    "        if i == 5:\n",
    "            print(line)"
   ]
  },
  {
   "cell_type": "markdown",
   "metadata": {},
   "source": [
    "Archivos CSV"
   ]
  },
  {
   "cell_type": "code",
   "execution_count": 17,
   "metadata": {},
   "outputs": [
    {
     "name": "stdout",
     "output_type": "stream",
     "text": [
      "Forma Ineficiente\n"
     ]
    },
    {
     "ename": "ZeroDivisionError",
     "evalue": "division by zero",
     "output_type": "error",
     "traceback": [
      "\u001b[1;31m---------------------------------------------------------------------------\u001b[0m",
      "\u001b[1;31mZeroDivisionError\u001b[0m                         Traceback (most recent call last)",
      "\u001b[1;32m<ipython-input-17-2d10874e90b8>\u001b[0m in \u001b[0;36m<module>\u001b[1;34m\u001b[0m\n\u001b[0;32m     25\u001b[0m         \u001b[0macumulador_virginica\u001b[0m \u001b[1;33m=\u001b[0m \u001b[0macumulador_virginica\u001b[0m \u001b[1;33m+\u001b[0m \u001b[0mfloat\u001b[0m\u001b[1;33m(\u001b[0m\u001b[0melemento\u001b[0m\u001b[1;33m[\u001b[0m\u001b[1;36m0\u001b[0m\u001b[1;33m]\u001b[0m\u001b[1;33m)\u001b[0m\u001b[1;33m\u001b[0m\u001b[1;33m\u001b[0m\u001b[0m\n\u001b[0;32m     26\u001b[0m \u001b[1;33m\u001b[0m\u001b[0m\n\u001b[1;32m---> 27\u001b[1;33m \u001b[0mprint\u001b[0m\u001b[1;33m(\u001b[0m\u001b[1;34m\"El promedio de Sepal_Length de las especies Setosa es: \"\u001b[0m\u001b[1;33m,\u001b[0m \u001b[0mround\u001b[0m\u001b[1;33m(\u001b[0m\u001b[0macumulador_setosa\u001b[0m\u001b[1;33m/\u001b[0m\u001b[0mcontador_setosa\u001b[0m\u001b[1;33m,\u001b[0m\u001b[1;36m2\u001b[0m\u001b[1;33m)\u001b[0m\u001b[1;33m)\u001b[0m\u001b[1;33m\u001b[0m\u001b[1;33m\u001b[0m\u001b[0m\n\u001b[0m\u001b[0;32m     28\u001b[0m \u001b[0mprint\u001b[0m\u001b[1;33m(\u001b[0m\u001b[1;34m\"El promedio de Sepal_Length de las especies Versicolor es: \"\u001b[0m\u001b[1;33m,\u001b[0m \u001b[0mround\u001b[0m\u001b[1;33m(\u001b[0m\u001b[0macumulador_versicolor\u001b[0m\u001b[1;33m/\u001b[0m\u001b[0mcontador_versicolor\u001b[0m\u001b[1;33m,\u001b[0m\u001b[1;36m2\u001b[0m\u001b[1;33m)\u001b[0m\u001b[1;33m)\u001b[0m\u001b[1;33m\u001b[0m\u001b[1;33m\u001b[0m\u001b[0m\n\u001b[0;32m     29\u001b[0m \u001b[0mprint\u001b[0m\u001b[1;33m(\u001b[0m\u001b[1;34m\"El promedio de Sepal_Length de las especies Virginica es: \"\u001b[0m\u001b[1;33m,\u001b[0m \u001b[0mround\u001b[0m\u001b[1;33m(\u001b[0m\u001b[0macumulador_virginica\u001b[0m\u001b[1;33m/\u001b[0m\u001b[0mcontador_virginica\u001b[0m\u001b[1;33m,\u001b[0m\u001b[1;36m2\u001b[0m\u001b[1;33m)\u001b[0m\u001b[1;33m)\u001b[0m\u001b[1;33m\u001b[0m\u001b[1;33m\u001b[0m\u001b[0m\n",
      "\u001b[1;31mZeroDivisionError\u001b[0m: division by zero"
     ]
    }
   ],
   "source": [
    "import csv\n",
    "with open('data/iris.csv', 'r') as file:\n",
    "    reader = csv.reader(file)\n",
    "    #for linea in reader:\n",
    "    #    print(linea)\n",
    "    datos = list(reader)\n",
    "\n",
    "print(\"Forma Ineficiente\")\n",
    "acumulador_setosa = 0\n",
    "contador_setosa = 0\n",
    "acumulador_versicolor = 0\n",
    "contador_versicolor = 0\n",
    "acumulador_virginica = 0\n",
    "contador_virginica = 0\n",
    "for elemento in datos:\n",
    "    print(elemento)\n",
    "    if elemento[4]==\"setosa\":\n",
    "        contador_setosa = contador_setosa + 1\n",
    "        acumulador_setosa = acumulador_setosa + float(elemento[0])\n",
    "    if elemento[4]==\"versicolor\":\n",
    "        contador_versicolor = contador_versicolor + 1\n",
    "        acumulador_versicolor = acumulador_versicolor + float(elemento[0])\n",
    "    if elemento[4]==\"virginica\":\n",
    "        contador_virginica = contador_virginica + 1\n",
    "        acumulador_virginica = acumulador_virginica + float(elemento[0])\n",
    "\n",
    "print(\"El promedio de Sepal_Length de las especies Setosa es: \", round(acumulador_setosa/contador_setosa,2))\n",
    "print(\"El promedio de Sepal_Length de las especies Versicolor es: \", round(acumulador_versicolor/contador_versicolor,2))\n",
    "print(\"El promedio de Sepal_Length de las especies Virginica es: \", round(acumulador_virginica/contador_virginica,2))\n",
    "        \n",
    "    \n",
    "print(\"Forma más eficiente\")\n",
    "def promedio(especie, variable, datos):\n",
    "    variables = ['sepal_length', 'sepal_width', 'petal_length', 'petal_width', 'species']\n",
    "    indice_variable = variables.index(variable)\n",
    "    acumulador= 0\n",
    "    contador = 0\n",
    "    for elemento in datos:\n",
    "        if elemento[4] == especie:\n",
    "            contador = contador + 1\n",
    "            acumulador = acumulador + float(elemento[indice_variable])\n",
    "    return round(acumulador/contador, 2)\n",
    "\n",
    "variable = \"sepal_length\"\n",
    "especie = \"virginica\"\n",
    "print(\"El promedio de \" \n",
    "      + variable \n",
    "      + \" de las especies \"\n",
    "      + especie \n",
    "      + \" es: \", \n",
    "          promedio(especie, variable, datos))\n"
   ]
  },
  {
   "cell_type": "code",
   "execution_count": 18,
   "metadata": {},
   "outputs": [],
   "source": [
    "import csv\n",
    "with open('salida.csv', mode='w') as file:\n",
    "    writer = csv.writer(file, delimiter=';')\n",
    "    writer.writerow(['Luis', 'Perez', '46'])\n",
    "    writer.writerow(['Claudia', 'Reyes', '37'])\n"
   ]
  },
  {
   "cell_type": "code",
   "execution_count": 19,
   "metadata": {},
   "outputs": [],
   "source": [
    "import csv\n",
    "\n",
    "with open('data/personas.csv', mode='w') as csv_file:\n",
    "    fieldnames = ['nombre', 'apellido', 'edad']\n",
    "    writer = csv.DictWriter(csv_file, fieldnames=fieldnames)\n",
    "    writer.writeheader()\n",
    "    writer.writerow({'nombre': 'Luis', 'apellido': 'Perez', 'edad': 30})\n",
    "    writer.writerow({'nombre': 'Claudia', 'apellido': 'Reyes', 'edad': 40})\n"
   ]
  },
  {
   "cell_type": "markdown",
   "metadata": {},
   "source": [
    "Archivos con objetos de Python"
   ]
  },
  {
   "cell_type": "code",
   "execution_count": 20,
   "metadata": {},
   "outputs": [
    {
     "ename": "FileNotFoundError",
     "evalue": "[Errno 2] No such file or directory: 'data/datos_pickle'",
     "output_type": "error",
     "traceback": [
      "\u001b[1;31m---------------------------------------------------------------------------\u001b[0m",
      "\u001b[1;31mFileNotFoundError\u001b[0m                         Traceback (most recent call last)",
      "\u001b[1;32m<ipython-input-20-7cea66ce0a64>\u001b[0m in \u001b[0;36m<module>\u001b[1;34m\u001b[0m\n\u001b[0;32m     20\u001b[0m \u001b[1;31m#with open(\"data/datos_pickle\", 'wb') as file:\u001b[0m\u001b[1;33m\u001b[0m\u001b[1;33m\u001b[0m\u001b[1;33m\u001b[0m\u001b[0m\n\u001b[0;32m     21\u001b[0m \u001b[1;31m#    pickle.dump(arbol1, file)\u001b[0m\u001b[1;33m\u001b[0m\u001b[1;33m\u001b[0m\u001b[1;33m\u001b[0m\u001b[0m\n\u001b[1;32m---> 22\u001b[1;33m \u001b[1;32mwith\u001b[0m \u001b[0mopen\u001b[0m\u001b[1;33m(\u001b[0m\u001b[1;34m\"data/datos_pickle\"\u001b[0m\u001b[1;33m,\u001b[0m \u001b[1;34m'rb'\u001b[0m\u001b[1;33m)\u001b[0m \u001b[1;32mas\u001b[0m \u001b[0mfile\u001b[0m\u001b[1;33m:\u001b[0m\u001b[1;33m\u001b[0m\u001b[1;33m\u001b[0m\u001b[0m\n\u001b[0m\u001b[0;32m     23\u001b[0m     \u001b[0mdata_cargada\u001b[0m \u001b[1;33m=\u001b[0m \u001b[0mpickle\u001b[0m\u001b[1;33m.\u001b[0m\u001b[0mload\u001b[0m\u001b[1;33m(\u001b[0m\u001b[0mfile\u001b[0m\u001b[1;33m)\u001b[0m\u001b[1;33m\u001b[0m\u001b[1;33m\u001b[0m\u001b[0m\n\u001b[0;32m     24\u001b[0m \u001b[0mprint\u001b[0m\u001b[1;33m(\u001b[0m\u001b[0mdata_cargada\u001b[0m\u001b[1;33m)\u001b[0m\u001b[1;33m\u001b[0m\u001b[1;33m\u001b[0m\u001b[0m\n",
      "\u001b[1;31mFileNotFoundError\u001b[0m: [Errno 2] No such file or directory: 'data/datos_pickle'"
     ]
    }
   ],
   "source": [
    "import pickle\n",
    "\n",
    "data = [\"elemento\", \"nombre\", 5,\n",
    "        \"otro texto\", [\"lista0\", \"lista1\"]]\n",
    "\n",
    "class Arbol:\n",
    "    def __init__(self, altura):\n",
    "        self.componente_quimico=self.__calculo()\n",
    "        self.altura=altura\n",
    "        \n",
    "    def crecer(self, cuanto):\n",
    "        self.altura += cuanto\n",
    "        \n",
    "    def __calculo(self):\n",
    "        #llamar a base de datos masiva y hace un calculo que demora 24 hora\n",
    "        pass\n",
    "\n",
    "arbol1=Arbol(10)\n",
    "\n",
    "#with open(\"data/datos_pickle\", 'wb') as file:\n",
    "#    pickle.dump(arbol1, file)\n",
    "with open(\"data/datos_pickle\", 'rb') as file:\n",
    "    data_cargada = pickle.load(file)\n",
    "print(data_cargada)"
   ]
  },
  {
   "cell_type": "code",
   "execution_count": 101,
   "metadata": {
    "scrolled": true
   },
   "outputs": [
    {
     "ename": "JSONDecodeError",
     "evalue": "Expecting value: line 1 column 1 (char 0)",
     "output_type": "error",
     "traceback": [
      "\u001b[1;31m---------------------------------------------------------------------------\u001b[0m",
      "\u001b[1;31mJSONDecodeError\u001b[0m                           Traceback (most recent call last)",
      "\u001b[1;32m<ipython-input-101-fb0b9da45217>\u001b[0m in \u001b[0;36m<module>\u001b[1;34m\u001b[0m\n\u001b[0;32m      3\u001b[0m     \u001b[0mlinea\u001b[0m \u001b[1;33m=\u001b[0m \u001b[0marchivo\u001b[0m\u001b[1;33m.\u001b[0m\u001b[0mreadline\u001b[0m\u001b[1;33m(\u001b[0m\u001b[1;33m)\u001b[0m\u001b[1;33m\u001b[0m\u001b[1;33m\u001b[0m\u001b[0m\n\u001b[0;32m      4\u001b[0m \u001b[1;33m\u001b[0m\u001b[0m\n\u001b[1;32m----> 5\u001b[1;33m \u001b[0mdata\u001b[0m \u001b[1;33m=\u001b[0m \u001b[0mjson\u001b[0m\u001b[1;33m.\u001b[0m\u001b[0mloads\u001b[0m\u001b[1;33m(\u001b[0m\u001b[0mlinea\u001b[0m\u001b[1;33m)\u001b[0m \u001b[1;31m# crea un diccionario\u001b[0m\u001b[1;33m\u001b[0m\u001b[1;33m\u001b[0m\u001b[0m\n\u001b[0m\u001b[0;32m      6\u001b[0m \u001b[0mprint\u001b[0m\u001b[1;33m(\u001b[0m\u001b[0mdata\u001b[0m\u001b[1;33m[\u001b[0m\u001b[1;34m'albums'\u001b[0m\u001b[1;33m]\u001b[0m\u001b[1;33m[\u001b[0m\u001b[1;34m'genero'\u001b[0m\u001b[1;33m]\u001b[0m\u001b[1;33m)\u001b[0m\u001b[1;33m\u001b[0m\u001b[1;33m\u001b[0m\u001b[0m\n\u001b[0;32m      7\u001b[0m \u001b[1;33m\u001b[0m\u001b[0m\n",
      "\u001b[1;32mC:\\Users\\eduth\\Anaconda3\\lib\\json\\__init__.py\u001b[0m in \u001b[0;36mloads\u001b[1;34m(s, encoding, cls, object_hook, parse_float, parse_int, parse_constant, object_pairs_hook, **kw)\u001b[0m\n\u001b[0;32m    346\u001b[0m             \u001b[0mparse_int\u001b[0m \u001b[1;32mis\u001b[0m \u001b[1;32mNone\u001b[0m \u001b[1;32mand\u001b[0m \u001b[0mparse_float\u001b[0m \u001b[1;32mis\u001b[0m \u001b[1;32mNone\u001b[0m \u001b[1;32mand\u001b[0m\u001b[1;33m\u001b[0m\u001b[1;33m\u001b[0m\u001b[0m\n\u001b[0;32m    347\u001b[0m             parse_constant is None and object_pairs_hook is None and not kw):\n\u001b[1;32m--> 348\u001b[1;33m         \u001b[1;32mreturn\u001b[0m \u001b[0m_default_decoder\u001b[0m\u001b[1;33m.\u001b[0m\u001b[0mdecode\u001b[0m\u001b[1;33m(\u001b[0m\u001b[0ms\u001b[0m\u001b[1;33m)\u001b[0m\u001b[1;33m\u001b[0m\u001b[1;33m\u001b[0m\u001b[0m\n\u001b[0m\u001b[0;32m    349\u001b[0m     \u001b[1;32mif\u001b[0m \u001b[0mcls\u001b[0m \u001b[1;32mis\u001b[0m \u001b[1;32mNone\u001b[0m\u001b[1;33m:\u001b[0m\u001b[1;33m\u001b[0m\u001b[1;33m\u001b[0m\u001b[0m\n\u001b[0;32m    350\u001b[0m         \u001b[0mcls\u001b[0m \u001b[1;33m=\u001b[0m \u001b[0mJSONDecoder\u001b[0m\u001b[1;33m\u001b[0m\u001b[1;33m\u001b[0m\u001b[0m\n",
      "\u001b[1;32mC:\\Users\\eduth\\Anaconda3\\lib\\json\\decoder.py\u001b[0m in \u001b[0;36mdecode\u001b[1;34m(self, s, _w)\u001b[0m\n\u001b[0;32m    335\u001b[0m \u001b[1;33m\u001b[0m\u001b[0m\n\u001b[0;32m    336\u001b[0m         \"\"\"\n\u001b[1;32m--> 337\u001b[1;33m         \u001b[0mobj\u001b[0m\u001b[1;33m,\u001b[0m \u001b[0mend\u001b[0m \u001b[1;33m=\u001b[0m \u001b[0mself\u001b[0m\u001b[1;33m.\u001b[0m\u001b[0mraw_decode\u001b[0m\u001b[1;33m(\u001b[0m\u001b[0ms\u001b[0m\u001b[1;33m,\u001b[0m \u001b[0midx\u001b[0m\u001b[1;33m=\u001b[0m\u001b[0m_w\u001b[0m\u001b[1;33m(\u001b[0m\u001b[0ms\u001b[0m\u001b[1;33m,\u001b[0m \u001b[1;36m0\u001b[0m\u001b[1;33m)\u001b[0m\u001b[1;33m.\u001b[0m\u001b[0mend\u001b[0m\u001b[1;33m(\u001b[0m\u001b[1;33m)\u001b[0m\u001b[1;33m)\u001b[0m\u001b[1;33m\u001b[0m\u001b[1;33m\u001b[0m\u001b[0m\n\u001b[0m\u001b[0;32m    338\u001b[0m         \u001b[0mend\u001b[0m \u001b[1;33m=\u001b[0m \u001b[0m_w\u001b[0m\u001b[1;33m(\u001b[0m\u001b[0ms\u001b[0m\u001b[1;33m,\u001b[0m \u001b[0mend\u001b[0m\u001b[1;33m)\u001b[0m\u001b[1;33m.\u001b[0m\u001b[0mend\u001b[0m\u001b[1;33m(\u001b[0m\u001b[1;33m)\u001b[0m\u001b[1;33m\u001b[0m\u001b[1;33m\u001b[0m\u001b[0m\n\u001b[0;32m    339\u001b[0m         \u001b[1;32mif\u001b[0m \u001b[0mend\u001b[0m \u001b[1;33m!=\u001b[0m \u001b[0mlen\u001b[0m\u001b[1;33m(\u001b[0m\u001b[0ms\u001b[0m\u001b[1;33m)\u001b[0m\u001b[1;33m:\u001b[0m\u001b[1;33m\u001b[0m\u001b[1;33m\u001b[0m\u001b[0m\n",
      "\u001b[1;32mC:\\Users\\eduth\\Anaconda3\\lib\\json\\decoder.py\u001b[0m in \u001b[0;36mraw_decode\u001b[1;34m(self, s, idx)\u001b[0m\n\u001b[0;32m    353\u001b[0m             \u001b[0mobj\u001b[0m\u001b[1;33m,\u001b[0m \u001b[0mend\u001b[0m \u001b[1;33m=\u001b[0m \u001b[0mself\u001b[0m\u001b[1;33m.\u001b[0m\u001b[0mscan_once\u001b[0m\u001b[1;33m(\u001b[0m\u001b[0ms\u001b[0m\u001b[1;33m,\u001b[0m \u001b[0midx\u001b[0m\u001b[1;33m)\u001b[0m\u001b[1;33m\u001b[0m\u001b[1;33m\u001b[0m\u001b[0m\n\u001b[0;32m    354\u001b[0m         \u001b[1;32mexcept\u001b[0m \u001b[0mStopIteration\u001b[0m \u001b[1;32mas\u001b[0m \u001b[0merr\u001b[0m\u001b[1;33m:\u001b[0m\u001b[1;33m\u001b[0m\u001b[1;33m\u001b[0m\u001b[0m\n\u001b[1;32m--> 355\u001b[1;33m             \u001b[1;32mraise\u001b[0m \u001b[0mJSONDecodeError\u001b[0m\u001b[1;33m(\u001b[0m\u001b[1;34m\"Expecting value\"\u001b[0m\u001b[1;33m,\u001b[0m \u001b[0ms\u001b[0m\u001b[1;33m,\u001b[0m \u001b[0merr\u001b[0m\u001b[1;33m.\u001b[0m\u001b[0mvalue\u001b[0m\u001b[1;33m)\u001b[0m \u001b[1;32mfrom\u001b[0m \u001b[1;32mNone\u001b[0m\u001b[1;33m\u001b[0m\u001b[1;33m\u001b[0m\u001b[0m\n\u001b[0m\u001b[0;32m    356\u001b[0m         \u001b[1;32mreturn\u001b[0m \u001b[0mobj\u001b[0m\u001b[1;33m,\u001b[0m \u001b[0mend\u001b[0m\u001b[1;33m\u001b[0m\u001b[1;33m\u001b[0m\u001b[0m\n",
      "\u001b[1;31mJSONDecodeError\u001b[0m: Expecting value: line 1 column 1 (char 0)"
     ]
    }
   ],
   "source": [
    "import json\n",
    "with open('data/datos.json') as archivo:\n",
    "    linea = archivo.readline()\n",
    "\n",
    "data = json.loads(linea) # crea un diccionario\n",
    "print(data['albums']['genero'])\n",
    "\n",
    "data['albums']['genero'] = \"jazz\"\n",
    "\n",
    "with open('data/datos.json', 'w') as archivo:\n",
    "    string_json = json.dumps(data) # creo un string json desde el diccionario python\n",
    "    archivo.write(string_json)"
   ]
  },
  {
   "cell_type": "code",
   "execution_count": 27,
   "metadata": {},
   "outputs": [],
   "source": []
  },
  {
   "cell_type": "code",
   "execution_count": 186,
   "metadata": {},
   "outputs": [],
   "source": [
    "#PROFE EN CLASES\n",
    "class Inventario:\n",
    "    def __init__(self):\n",
    "        self.__nombre_archivo =\"data/inventario.txt\"\n",
    "        self.__crear_archivo()\n",
    "    \n",
    "    def __crear_archivo(self):\n",
    "        with open(self.__nombre_archivo, 'a') as file:\n",
    "            file.write(\"\\nInventario Iniciado\")\n",
    "    \n",
    "    def agregar_elemento(self, elemento):\n",
    "        with open(self.__nombre_archivo, 'a') as file:\n",
    "            file.write(\"\\n\"+elemento)"
   ]
  },
  {
   "cell_type": "code",
   "execution_count": 187,
   "metadata": {},
   "outputs": [],
   "source": [
    "bodega_sillas = Inventario()"
   ]
  },
  {
   "cell_type": "code",
   "execution_count": 188,
   "metadata": {},
   "outputs": [],
   "source": [
    "bodega_sillas.agregar_elemento(\"Silla de Terraza 06\")"
   ]
  },
  {
   "cell_type": "code",
   "execution_count": 189,
   "metadata": {},
   "outputs": [],
   "source": [
    "bodega_materiales = Inventario()"
   ]
  },
  {
   "cell_type": "code",
   "execution_count": 190,
   "metadata": {},
   "outputs": [],
   "source": [
    "bodega_materiales.agregar_elemento(\"Palo forma 6\")"
   ]
  },
  {
   "cell_type": "markdown",
   "metadata": {},
   "source": [
    "Inicio programa"
   ]
  },
  {
   "cell_type": "code",
   "execution_count": null,
   "metadata": {},
   "outputs": [],
   "source": []
  },
  {
   "cell_type": "markdown",
   "metadata": {},
   "source": [
    "#Modificado"
   ]
  },
  {
   "cell_type": "markdown",
   "metadata": {},
   "source": [
    "GENREAR FLORES"
   ]
  },
  {
   "cell_type": "code",
   "execution_count": 201,
   "metadata": {},
   "outputs": [
    {
     "name": "stdout",
     "output_type": "stream",
     "text": [
      "Tipo de Flor: eL\n"
     ]
    }
   ],
   "source": [
    "import random\n",
    "import string\n",
    "from random import randrange, choice\n",
    "\n",
    "\n",
    "especie_flor=(random.choice(string.ascii_lowercase))\n",
    "#print(\"especie_flor:\" ,especie_flor)\n",
    "tamano_flor=(choice([\"S\", \"L\"]))\n",
    "#print(\"tamano_flor:\" ,tamano_flor)\n",
    "flor=str(especie_flor)+str(tamano_flor)\n",
    "print(\"Tipo de Flor:\",flor)\n"
   ]
  },
  {
   "cell_type": "markdown",
   "metadata": {},
   "source": [
    "NOMBRE DEL RAMO"
   ]
  },
  {
   "cell_type": "code",
   "execution_count": 202,
   "metadata": {},
   "outputs": [
    {
     "name": "stdout",
     "output_type": "stream",
     "text": [
      "nombre_ramo: M\n",
      "tamano_ramo: S\n",
      "Tipo de ramo: MS\n"
     ]
    }
   ],
   "source": [
    "nombre_ramo=(random.choice(string.ascii_uppercase))\n",
    "print(\"nombre_ramo:\" ,nombre_ramo)\n",
    "tamano_ramo=(choice([\"S\", \"L\"]))\n",
    "print(\"tamano_ramo:\" ,tamano_ramo)\n",
    "ramo=str(nombre_ramo)+str(tamano_ramo)\n",
    "print(\"Tipo de ramo:\",ramo)"
   ]
  },
  {
   "cell_type": "markdown",
   "metadata": {},
   "source": [
    "#<nombre_ramo><tamano_ramo><cantidad_flor1><especie_flor1>###<cantidad_florN><especie_florN><cantidad_flores_ramo>"
   ]
  },
  {
   "cell_type": "markdown",
   "metadata": {},
   "source": [
    "CANTIDAD DE FLORES"
   ]
  },
  {
   "cell_type": "code",
   "execution_count": 198,
   "metadata": {},
   "outputs": [
    {
     "name": "stdout",
     "output_type": "stream",
     "text": [
      "Ingresar cantidad de flores: 3\n"
     ]
    }
   ],
   "source": [
    "i=int(input(\"Ingresar cantidad de flores: \"))\n",
    "if i>0:\n",
    "    cantidadad_flor=str(i)"
   ]
  }
 ],
 "metadata": {
  "kernelspec": {
   "display_name": "Python 3",
   "language": "python",
   "name": "python3"
  },
  "language_info": {
   "codemirror_mode": {
    "name": "ipython",
    "version": 3
   },
   "file_extension": ".py",
   "mimetype": "text/x-python",
   "name": "python",
   "nbconvert_exporter": "python",
   "pygments_lexer": "ipython3",
   "version": "3.7.1"
  }
 },
 "nbformat": 4,
 "nbformat_minor": 4
}
