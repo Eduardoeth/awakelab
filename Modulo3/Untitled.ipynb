{
 "cells": [
  {
   "cell_type": "code",
   "execution_count": 1,
   "metadata": {},
   "outputs": [
    {
     "name": "stdout",
     "output_type": "stream",
     "text": [
      "Producciendo Flores\n",
      "Ya hay Flores\n"
     ]
    }
   ],
   "source": [
    "import random\n",
    "import string\n",
    "import time\n",
    "from random import randrange, choice\n",
    "\n",
    "class ProducirFlores:\n",
    "    print (\"Producciendo Flores\")\n",
    "    i = 0\n",
    "    while i<50:\n",
    "        especie_flor=(random.choice(string.ascii_lowercase))\n",
    "        tamano_flor=(choice([\"S\", \"L\"]))\n",
    "        flor=str(especie_flor)+str(tamano_flor)\n",
    "        Flor_saliente = open(\"Flores.txt\", \"a\")\n",
    "        Flor_saliente.write((flor)+ \"\\n\")    \n",
    "        time.sleep(0.01)\n",
    "        i+=1\n",
    "    print (\"Ya hay Flores\")\n"
   ]
  },
  {
   "cell_type": "code",
   "execution_count": null,
   "metadata": {},
   "outputs": [],
   "source": []
  }
 ],
 "metadata": {
  "kernelspec": {
   "display_name": "Python 3",
   "language": "python",
   "name": "python3"
  },
  "language_info": {
   "codemirror_mode": {
    "name": "ipython",
    "version": 3
   },
   "file_extension": ".py",
   "mimetype": "text/x-python",
   "name": "python",
   "nbconvert_exporter": "python",
   "pygments_lexer": "ipython3",
   "version": "3.7.1"
  }
 },
 "nbformat": 4,
 "nbformat_minor": 4
}
