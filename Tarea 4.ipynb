{
 "cells": [
  {
   "cell_type": "markdown",
   "metadata": {},
   "source": [
    "# 1. Ingredientes para pizza:\n",
    "# Escriba un loop que solicite al usuario ingresar una serie de ingredientes para pizzas hasta que ingresen el valor ‘quit’. A medida que el usuario agrega un ingrediente, imprima un mensaje que diga que agregará ese nombre de ingrediente a su pizza. Al ingresar la palabra ‘quit’ el programa revisará si se ingresó al menos 1 ingrediente. De lo contrario dira ‘La pizza no es viable’."
   ]
  },
  {
   "cell_type": "code",
   "execution_count": 2,
   "metadata": {},
   "outputs": [
    {
     "name": "stdout",
     "output_type": "stream",
     "text": [
      "ingresar una serie de ingredientes para pizzas hasta que ingresen el valor ‘quit’quit\n",
      "La pizza no es viable\n",
      "ingresar una serie de ingredientes para pizzas hasta que ingresen el valor ‘quit’quit\n",
      "La pizza no es viable\n",
      "ingresar una serie de ingredientes para pizzas hasta que ingresen el valor ‘quit’tomate\n",
      "Se agrego  tomate  como un nuevo ingrediente a su pizza\n",
      "ingresar una serie de ingredientes para pizzas hasta que ingresen el valor ‘quit’quit\n",
      "Se termino la construcción de la pizza\n"
     ]
    }
   ],
   "source": [
    "n=1\n",
    "while n<100:\n",
    "    x=str(input(\"ingresar una serie de ingredientes para pizzas hasta que ingresen el valor ‘quit’\"))\n",
    "    if x==\"quit\":\n",
    "        if n<2:\n",
    "            print(\"La pizza no es viable\")\n",
    "        else:\n",
    "            print(\"Se termino la construcción de la pizza\")\n",
    "            n=n+100\n",
    "    else:\n",
    "        n=n+1\n",
    "        print(\"Se agrego \", x, \" como un nuevo ingrediente a su pizza\")"
   ]
  },
  {
   "cell_type": "markdown",
   "metadata": {},
   "source": [
    "# 2. Entradas de cine:\n",
    "# Un cine cobra diferentes precios de entradas según la edad de una persona. Si una persona es menor de 3 años, la entrada es gratuita; si está entre 3 y 12 años el ticket cuesta 5.000; y si son mayores de 12 años el ticket cuesta  7.000. Escriba un loop que pregunte a los usuarios su edad y luego informe el costo de su ticket de cine."
   ]
  },
  {
   "cell_type": "code",
   "execution_count": 26,
   "metadata": {},
   "outputs": [
    {
     "name": "stdout",
     "output_type": "stream",
     "text": [
      "¿Cual es tu edad? R:12\n",
      "El valor de la entrada es de: $ 0\n"
     ]
    }
   ],
   "source": [
    "n=1\n",
    "while n<100:\n",
    "    x=str(input(\"ingresar una serie de ingredientes para pizzas hasta que ingresen el valor ‘quit’\"))\n",
    "    if x==\"quit\":\n",
    "        if n<2:\n",
    "            print(\"La pizza no es viable\")\n",
    "        else:\n",
    "            print(\"Se termino la construcción de la pizza\")\n",
    "            n=n+100\n",
    "    else:\n",
    "        n=n+1\n",
    "        print(\"Se agrego \", x, \" como un nuevo ingrediente a su pizza\")"
   ]
  },
  {
   "cell_type": "markdown",
   "metadata": {},
   "source": [
    "a) Que utilice una prueba condicional en la instrucción while para\n",
    "detener el loop."
   ]
  },
  {
   "cell_type": "code",
   "execution_count": null,
   "metadata": {},
   "outputs": [],
   "source": [
    "n=1\n",
    "Costo_Total2=int(0)\n",
    "while n<2:\n",
    "    y=str(input(\"¿Comprar entrada?. ingresar si o no: R:\"))\n",
    "    S=str(\"si\")\n",
    "    N=str(\"no\")\n",
    "    if y==S:\n",
    "        x=int(input(\"¿Cual es tu edad? R:\"))\n",
    "        if x<=3:\n",
    "            Costo_Entrada=0\n",
    "        elif x>3 and x<12:\n",
    "            Costo_Entrada=5000\n",
    "        elif x>=12:\n",
    "            Costo_Entrada=7000\n",
    "        print(\"El valor de la entrada de edad \", x, \" es de: $\", int(Costo_Entrada))\n",
    "        Costo_Total2 = int(Costo_Total2) + int(Costo_Entrada)\n",
    "    if y==N:\n",
    "        n=n+2\n",
    "\n",
    "print(\"El valor total de la entrada es de: $\", int(Costo_Total2))"
   ]
  },
  {
   "cell_type": "markdown",
   "metadata": {},
   "source": [
    "b) Que utilice una variable activa para controlar la duración máxima\n",
    "del loop."
   ]
  },
  {
   "cell_type": "code",
   "execution_count": null,
   "metadata": {},
   "outputs": [],
   "source": [
    "n=1\n",
    "Costo_Total2=int(0)\n",
    "while n<2:\n",
    "    y=str(input(\"¿Comprar entrada?. ingresar si o no: R:\"))\n",
    "    S=str(\"si\")\n",
    "    N=str(\"no\")\n",
    "    if y==S:\n",
    "        x=int(input(\"¿Cual es tu edad? R:\"))\n",
    "        if x<=3:\n",
    "            Costo_Entrada=0\n",
    "        elif x>3 and x<12:\n",
    "            Costo_Entrada=5000\n",
    "        elif x>=12:\n",
    "            Costo_Entrada=7000\n",
    "        print(\"El valor de la entrada de edad \", x, \" es de: $\", int(Costo_Entrada))\n",
    "        Costo_Total2 = int(Costo_Total2) + int(Costo_Entrada)\n",
    "    if y==N:\n",
    "        n=n+2\n",
    "\n",
    "print(\"El valor total de la entrada es de: $\", int(Costo_Total2))"
   ]
  },
  {
   "cell_type": "markdown",
   "metadata": {},
   "source": [
    "c) Que utilice una instrucción break para salir del loop cuando el usuario ingrese un valor no esperado. Deberá entregar un mensaje\n",
    "apropiado para entender la causa del término del programa."
   ]
  },
  {
   "cell_type": "code",
   "execution_count": 1,
   "metadata": {},
   "outputs": [
    {
     "name": "stdout",
     "output_type": "stream",
     "text": [
      "¿Comprar entrada?. ingresar si o no: R:si\n",
      "¿Cual es tu edad? R:13\n",
      "El valor de la entrada de edad  13  es de: $ 7000\n",
      "¿Comprar entrada?. ingresar si o no: R:no\n",
      "El valor total de la entrada es de: $ 7000\n"
     ]
    }
   ],
   "source": [
    "n=1\n",
    "Costo_Total2=int(0)\n",
    "while n<2:\n",
    "    y=str(input(\"¿Comprar entrada?. ingresar si o no: R:\"))\n",
    "    S=str(\"si\")\n",
    "    N=str(\"no\")\n",
    "    if y==S:\n",
    "        x=int(input(\"¿Cual es tu edad? R:\"))\n",
    "        if x<=3:\n",
    "            Costo_Entrada=0\n",
    "        elif x>3 and x<12:\n",
    "            Costo_Entrada=5000\n",
    "        elif x>=12:\n",
    "            Costo_Entrada=7000\n",
    "        print(\"El valor de la entrada de edad \", x, \" es de: $\", int(Costo_Entrada))\n",
    "        Costo_Total2 = int(Costo_Total2) + int(Costo_Entrada)\n",
    "    if y==N:\n",
    "        break\n",
    "\n",
    "print(\"El valor total de la entrada es de: $\", int(Costo_Total2))"
   ]
  },
  {
   "cell_type": "code",
   "execution_count": null,
   "metadata": {},
   "outputs": [],
   "source": []
  }
 ],
 "metadata": {
  "kernelspec": {
   "display_name": "Python 3",
   "language": "python",
   "name": "python3"
  },
  "language_info": {
   "codemirror_mode": {
    "name": "ipython",
    "version": 3
   },
   "file_extension": ".py",
   "mimetype": "text/x-python",
   "name": "python",
   "nbconvert_exporter": "python",
   "pygments_lexer": "ipython3",
   "version": "3.7.1"
  }
 },
 "nbformat": 4,
 "nbformat_minor": 2
}
