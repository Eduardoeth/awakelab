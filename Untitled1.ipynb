{
 "cells": [
  {
   "cell_type": "code",
   "execution_count": null,
   "metadata": {},
   "outputs": [],
   "source": [
    "n=1\n",
    "while n<2:\n",
    "    y=str(\"¿Comprar entrada?. ingresar si o no: R:\")\n",
    "    S=str(\"si\")\n",
    "    N=str(\"no\")\n",
    "    \n",
    "    if y==S:\n",
    "        \n",
    "        x=int(input(\"¿Cual es tu edad? R:\"))\n",
    "        if x>=3:\n",
    "            Costo_Entrada=0\n",
    "        elif x<3 and x<12:\n",
    "            Costo_Entrada=5000\n",
    "        elif x>=12:\n",
    "            Costo_Entrada=7000\n",
    "            \n",
    "        print(\"El valor de la entrada de edad \", x, \" es de: $\", Costo_Entrada)\n",
    "        \n",
    "        Costo_Total=Costo_Entrada+Costo_Entrada\n",
    "    if y==N:\n",
    "        n=n+2\n",
    "\n",
    "print(\"El valor de la entrada es de: $\", Costo_Total)\n"
   ]
  },
  {
   "cell_type": "code",
   "execution_count": null,
   "metadata": {},
   "outputs": [],
   "source": []
  }
 ],
 "metadata": {
  "kernelspec": {
   "display_name": "Python 3",
   "language": "python",
   "name": "python3"
  },
  "language_info": {
   "codemirror_mode": {
    "name": "ipython",
    "version": 3
   },
   "file_extension": ".py",
   "mimetype": "text/x-python",
   "name": "python",
   "nbconvert_exporter": "python",
   "pygments_lexer": "ipython3",
   "version": "3.7.1"
  }
 },
 "nbformat": 4,
 "nbformat_minor": 2
}
