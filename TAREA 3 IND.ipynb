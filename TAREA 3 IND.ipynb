{
 "cells": [
  {
   "cell_type": "markdown",
   "metadata": {},
   "source": [
    "1. Escriba un programa que imprima en pantalla pruebas condicionales entre dos operandos. Y solicite al usuario predecir con t si es True o f si e False.\n",
    "2. Luego de recibida la respuesta del usuario, el programa debe evaluar el resultado"
   ]
  },
  {
   "cell_type": "code",
   "execution_count": null,
   "metadata": {},
   "outputs": [
    {
     "name": "stdout",
     "output_type": "stream",
     "text": [
      "¿Julieta es nombre de mujer?. Con t si es True o f si e Falset\n",
      "Correcto\n",
      "t si es True o f si e False\n"
     ]
    }
   ],
   "source": [
    "\n",
    "n=1\n",
    "while n<2:\n",
    "    x = str(input(\"¿Julieta es nombre de mujer?. Con t si es True o f si e False:  \"))\n",
    "    n=n+1\n",
    "    T=str(\"t\")\n",
    "    F=str(\"f\")\n",
    "    if x==T:\n",
    "        print(\"Correcto\")\n",
    "    if x==F:\n",
    "        print(\"Incorrecto\")\n",
    "    else:\n",
    "        print(\"t si es True o f si e False\")\n",
    "        n=n-1\n"
   ]
  },
  {
   "cell_type": "code",
   "execution_count": null,
   "metadata": {},
   "outputs": [],
   "source": []
  }
 ],
 "metadata": {
  "kernelspec": {
   "display_name": "Python 3",
   "language": "python",
   "name": "python3"
  },
  "language_info": {
   "codemirror_mode": {
    "name": "ipython",
    "version": 3
   },
   "file_extension": ".py",
   "mimetype": "text/x-python",
   "name": "python",
   "nbconvert_exporter": "python",
   "pygments_lexer": "ipython3",
   "version": "3.7.1"
  }
 },
 "nbformat": 4,
 "nbformat_minor": 2
}
