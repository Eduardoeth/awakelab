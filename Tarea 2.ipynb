{
 "cells": [
  {
   "cell_type": "markdown",
   "metadata": {},
   "source": [
    "Volumen Cicindro"
   ]
  },
  {
   "cell_type": "code",
   "execution_count": 6,
   "metadata": {
    "scrolled": true
   },
   "outputs": [
    {
     "name": "stdout",
     "output_type": "stream",
     "text": [
      "Altura5\n",
      "radio base circulo5\n"
     ]
    },
    {
     "data": {
      "text/plain": [
       "25"
      ]
     },
     "execution_count": 6,
     "metadata": {},
     "output_type": "execute_result"
    }
   ],
   "source": [
    "def volumen_colindro(altura, radiocirculo):\n",
    "    volumen = altura * radiocirculo\n",
    "    return volumen\n",
    "\n",
    "volumen_colindro (int(input(\"Altura: \")),int(input(\"radio base circulo: \")))"
   ]
  },
  {
   "cell_type": "markdown",
   "metadata": {},
   "source": [
    "volumen del esfera"
   ]
  },
  {
   "cell_type": "code",
   "execution_count": 16,
   "metadata": {},
   "outputs": [
    {
     "name": "stdout",
     "output_type": "stream",
     "text": [
      "radio esfera: 5\n"
     ]
    },
    {
     "data": {
      "text/plain": [
       "523.5987755982989"
      ]
     },
     "execution_count": 16,
     "metadata": {},
     "output_type": "execute_result"
    }
   ],
   "source": [
    "import math\n",
    "def volumen_esfera(radio):\n",
    "    volumen = (4/3) * math.pi * radio**3\n",
    "    return volumen\n",
    "\n",
    "volumen_esfera (int(input(\"radio esfera: \")))"
   ]
  },
  {
   "cell_type": "code",
   "execution_count": 14,
   "metadata": {},
   "outputs": [
    {
     "name": "stdout",
     "output_type": "stream",
     "text": [
      "altura: 10\n",
      "lado base 1 : 2\n",
      "lado base 2 : 2\n"
     ]
    },
    {
     "data": {
      "text/plain": [
       "13.333333333333332"
      ]
     },
     "execution_count": 14,
     "metadata": {},
     "output_type": "execute_result"
    }
   ],
   "source": [
    "def volumen_piramide(altura, lado_base1, lado_base2):\n",
    "    areabase=int(lado_base1*lado_base2)\n",
    "    volumen = (1/3) * areabase * altura\n",
    "    return volumen\n",
    "\n",
    "volumen_piramide (int(input(\"altura: \")), int(input(\"lado base 1 : \")), int(input(\"lado base 2 : \")))"
   ]
  },
  {
   "cell_type": "code",
   "execution_count": 15,
   "metadata": {},
   "outputs": [
    {
     "name": "stdout",
     "output_type": "stream",
     "text": [
      "lado1: 2\n",
      "lado2: 2\n",
      "lado3: 2\n"
     ]
    },
    {
     "data": {
      "text/plain": [
       "8"
      ]
     },
     "execution_count": 15,
     "metadata": {},
     "output_type": "execute_result"
    }
   ],
   "source": [
    "def volumen_paralelepipedo(lado1,lado2, lado3):\n",
    "    volumen = lado1*lado2* lado3\n",
    "    return volumen\n",
    "\n",
    "volumen_paralelepipedo (int(input(\"lado1: \")),int(input(\"lado2: \")),int(input(\"lado3: \")))"
   ]
  },
  {
   "cell_type": "code",
   "execution_count": null,
   "metadata": {},
   "outputs": [],
   "source": []
  }
 ],
 "metadata": {
  "kernelspec": {
   "display_name": "Python 3",
   "language": "python",
   "name": "python3"
  },
  "language_info": {
   "codemirror_mode": {
    "name": "ipython",
    "version": 3
   },
   "file_extension": ".py",
   "mimetype": "text/x-python",
   "name": "python",
   "nbconvert_exporter": "python",
   "pygments_lexer": "ipython3",
   "version": "3.7.1"
  }
 },
 "nbformat": 4,
 "nbformat_minor": 2
}
