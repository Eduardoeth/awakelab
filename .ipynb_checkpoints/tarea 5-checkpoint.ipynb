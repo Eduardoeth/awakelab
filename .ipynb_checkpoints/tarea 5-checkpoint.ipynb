{
 "cells": [
  {
   "cell_type": "code",
   "execution_count": null,
   "metadata": {
    "scrolled": true
   },
   "outputs": [
    {
     "name": "stdout",
     "output_type": "stream",
     "text": [
      "Ingresar orden: ['Barros Luco', 'Lomito italiano', 'Chacarero', 'Atún', 'vegetariano']baroos luco\n",
      "baroos luco\n",
      "Su sandwich de atún ya está preparado”.\n",
      "Ingresar orden: ['Barros Luco', 'Lomito italiano', 'Chacarero', 'Atún', 'vegetariano']lomo italiano\n",
      "lomo italiano\n",
      "Su sandwich de atún ya está preparado”.\n",
      "Ingresar orden: ['Barros Luco', 'Lomito italiano', 'Chacarero', 'Atún', 'vegetariano']no\n",
      "no\n",
      "Su sandwich de atún ya está preparado”.\n",
      "Ingresar orden: ['Barros Luco', 'Lomito italiano', 'Chacarero', 'Atún', 'vegetariano']k\n",
      "k\n",
      "Su sandwich de atún ya está preparado”.\n",
      "Ingresar orden: ['Barros Luco', 'Lomito italiano', 'Chacarero', 'Atún', 'vegetariano']k\n",
      "k\n",
      "Su sandwich de atún ya está preparado”.\n",
      "Ingresar orden: ['Barros Luco', 'Lomito italiano', 'Chacarero', 'Atún', 'vegetariano']ij\n",
      "ij\n",
      "Su sandwich de atún ya está preparado”.\n",
      "Ingresar orden: ['Barros Luco', 'Lomito italiano', 'Chacarero', 'Atún', 'vegetariano']32\n",
      "32\n",
      "Su sandwich de atún ya está preparado”.\n",
      "Ingresar orden: ['Barros Luco', 'Lomito italiano', 'Chacarero', 'Atún', 'vegetariano']42\n",
      "42\n",
      "Su sandwich de atún ya está preparado”.\n"
     ]
    }
   ],
   "source": [
    "ordenes_de_sandwiches = ['Barros Luco', 'Lomito italiano', 'Chacarero', 'Atún', 'vegetariano']\n",
    "sandwiches_terminados = []\n",
    "while True:\n",
    "    \n",
    "    pregunta=str(input(\"Ingresar orden: \"+ str(ordenes_de_sandwiches)))\n",
    "    pregunta_minuscula=pregunta.lower()\n",
    "    print(pregunta_minuscula)\n",
    "    \n",
    "    print(\"Su sandwich de atún ya está preparado”.\")\n",
    "\n",
    "    \n",
    "    sandwiches_terminados.append(pregunta)\n",
    "    \n",
    "    Pregunta_finalizar=(\"¿Quiere pedir otra orden?. Si o no\")\n",
    "    Pregunta_finalizar=Pregunta_finalizar.lower()\n",
    "    if Pregunta_finalizar==\"no\":\n",
    "        v\n",
    "        print(sandwiches_terminados)\n",
    "        n=1\n",
    "        for i in range(sandwiches_terminados):\n",
    "            J= str(n)+str(i) #se trasforma en número\n",
    "            n+=1\n",
    "        break\n"
   ]
  },
  {
   "cell_type": "code",
   "execution_count": 9,
   "metadata": {},
   "outputs": [
    {
     "ename": "IndentationError",
     "evalue": "unexpected indent (<ipython-input-9-7a55451ee7e4>, line 4)",
     "output_type": "error",
     "traceback": [
      "\u001b[1;36m  File \u001b[1;32m\"<ipython-input-9-7a55451ee7e4>\"\u001b[1;36m, line \u001b[1;32m4\u001b[0m\n\u001b[1;33m    pregunta=str(input(\"Ingresar orden: \", ordenes_de_sandwiches))\u001b[0m\n\u001b[1;37m    ^\u001b[0m\n\u001b[1;31mIndentationError\u001b[0m\u001b[1;31m:\u001b[0m unexpected indent\n"
     ]
    }
   ],
   "source": [
    "ordenes_de_sandwiches = ['Barros Luco', 'Lomito italiano', 'Chacarero', 'Atún', 'vegetariano']\n",
    "sandwiches_terminados = []\n",
    "#while True:\n",
    "    pregunta=str(input(\"Ingresar orden: \", ordenes_de_sandwiches))\n",
    "    if pregunta==\"si\":\n",
    "        \n",
    "   # if pregunta==\"no\":\n",
    "        \n",
    "   # else:\n",
    "    #    print(\"Mal ingresado\")"
   ]
  },
  {
   "cell_type": "code",
   "execution_count": null,
   "metadata": {},
   "outputs": [],
   "source": []
  }
 ],
 "metadata": {
  "kernelspec": {
   "display_name": "Python 3",
   "language": "python",
   "name": "python3"
  },
  "language_info": {
   "codemirror_mode": {
    "name": "ipython",
    "version": 3
   },
   "file_extension": ".py",
   "mimetype": "text/x-python",
   "name": "python",
   "nbconvert_exporter": "python",
   "pygments_lexer": "ipython3",
   "version": "3.7.1"
  }
 },
 "nbformat": 4,
 "nbformat_minor": 2
}
