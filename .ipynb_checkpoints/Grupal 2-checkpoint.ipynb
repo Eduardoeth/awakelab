{
 "cells": [
  {
   "cell_type": "markdown",
   "metadata": {},
   "source": [
    "a) Área y perímetro de círculo, dado su radio."
   ]
  },
  {
   "cell_type": "code",
   "execution_count": 8,
   "metadata": {},
   "outputs": [
    {
     "ename": "IndentationError",
     "evalue": "unindent does not match any outer indentation level (<tokenize>, line 8)",
     "output_type": "error",
     "traceback": [
      "\u001b[1;36m  File \u001b[1;32m\"<tokenize>\"\u001b[1;36m, line \u001b[1;32m8\u001b[0m\n\u001b[1;33m    Area_y_perimetro(int(input(\"RADIO CIRCULO: \")))\u001b[0m\n\u001b[1;37m    ^\u001b[0m\n\u001b[1;31mIndentationError\u001b[0m\u001b[1;31m:\u001b[0m unindent does not match any outer indentation level\n"
     ]
    }
   ],
   "source": [
    "import math\n",
    "def Area_y_perimetro(radio):\n",
    "    area = math.pi * radio**2\n",
    "    perímetro= 2*math.pi*radio\n",
    "     Area_perimetro=(\"Área: \", area, ,\" y \", \"perímetro: \", perímetro)\n",
    "    return Area_perimetro\n",
    "\n",
    " Area_y_perimetro(int(input(\"RADIO CIRCULO: \")))"
   ]
  },
  {
   "cell_type": "markdown",
   "metadata": {},
   "source": [
    "b) Área y perímetro de triángulo, dadas su base y su altura."
   ]
  },
  {
   "cell_type": "code",
   "execution_count": null,
   "metadata": {},
   "outputs": [],
   "source": [
    "def volumen_piramide(altura, lado_base1, lado_base2):\n",
    "    areabase=int(lado_base1*lado_base2)\n",
    "    volumen = (1/3) * areabase * altura\n",
    "    return volumen\n",
    "\n",
    "volumen_piramide (int(input(\"altura: \")), int(input(\"lado base 1 : \")), int(input(\"lado base 2 : \")))"
   ]
  },
  {
   "cell_type": "markdown",
   "metadata": {},
   "source": [
    "c) Área y perímetro de Rectándulo, dados sus lados."
   ]
  },
  {
   "cell_type": "code",
   "execution_count": null,
   "metadata": {},
   "outputs": [],
   "source": [
    "def volumen_paralelepipedo(lado1,lado2, lado3):\n",
    "    volumen = lado1*lado2* lado3\n",
    "    return volumen\n",
    "\n",
    "volumen_paralelepipedo (int(input(\"lado1: \")),int(input(\"lado2: \")),int(input(\"lado3: \")))"
   ]
  },
  {
   "cell_type": "markdown",
   "metadata": {},
   "source": [
    "d) Distancia recorrida, dados tiempo y velocidad."
   ]
  },
  {
   "cell_type": "code",
   "execution_count": null,
   "metadata": {},
   "outputs": [],
   "source": [
    "def Hora_de_llegada(H,M,S):\n",
    "    import datetime\n",
    "    #salgo de mi casa a las 6:52\n",
    "    #H=int(input(\"Hora de salida: \")  # 6\n",
    "    #M=int(input(\"Minuto de salida: \")  # 52\n",
    "    #S=int(input(\"Segundo de salida: \")  # 0\n",
    "    hora_actual = datetime.datetime(2020, 11, 9, H, M, S, 0)\n",
    "    \n",
    "    print('Hora actual:', hora_actual)\n",
    "    \n",
    "    #primer tramo\n",
    "    D1=1\n",
    "    V1=8\n",
    "    Hora1=D1/V1\n",
    "    \n",
    "    #Segundo tramo\n",
    "    D2=1\n",
    "    V2=8\n",
    "    Hora2=D2/V2\n",
    "    \n",
    "    #Tercero tramo\n",
    "    D3=1\n",
    "    V3=8\n",
    "    Hora3=D2/V2\n",
    "    \n",
    "    HoraT=Hora1+Hora2+Hora3\n",
    "    print(\"Hora Total Recorrida: \", float(HoraT))\n",
    "    \n",
    "    resultado = hora_actual + datetime.timedelta(hours=HoraT) # + datetime.timedelta(minutes=120)\n",
    "    print()\n",
    "    print(resultado)\n",
    "          \n",
    "Hora_de_llegada(int(input(\"Hora de salida: \")),int(input(\"Minuto de salida: \")),int(input(\"Segundo de salida: \")))"
   ]
  }
 ],
 "metadata": {
  "kernelspec": {
   "display_name": "Python 3",
   "language": "python",
   "name": "python3"
  },
  "language_info": {
   "codemirror_mode": {
    "name": "ipython",
    "version": 3
   },
   "file_extension": ".py",
   "mimetype": "text/x-python",
   "name": "python",
   "nbconvert_exporter": "python",
   "pygments_lexer": "ipython3",
   "version": "3.7.1"
  }
 },
 "nbformat": 4,
 "nbformat_minor": 2
}
