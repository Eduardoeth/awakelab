{
 "cells": [
  {
   "cell_type": "code",
   "execution_count": 1,
   "metadata": {},
   "outputs": [
    {
     "name": "stdout",
     "output_type": "stream",
     "text": [
      "Awakelab\n",
      "delivery\n",
      "Awakelab delivery\n",
      "El restaurant esta abierto\n",
      "Salvajes comida rapida\n",
      "Kilombo Asiatica\n",
      "0\n",
      "numero de clientes atendidos:2\n",
      "2\n",
      "sume numero de clientes atendidos:3\n",
      "5\n"
     ]
    }
   ],
   "source": [
    "##PARTE 1) Restaurante Haga una clase llamada Restaurante.\n",
    "##debe almacenar dos atributos: un restaurant_nombre y un cocina_tipo. Cree\n",
    "##un método llamado describe_restaurant() que imprima estas dos piezas de\n",
    "#información, y un método llamado abrir_restaurant() que imprima un mensaje\n",
    "#indicando que el restaurante está abierto.\n",
    "#Cree una instancia llamada restaurante de la clase. Imprima los dos atributos\n",
    "#individualmente y luego llame a ambos métodos.\n",
    "\n",
    "class Restaurant:\n",
    "#metodos dentro de la clase  \n",
    "    def __init__(self, restaurant_nombre, cocina_tipo):\n",
    "        self.restaurant_nombre = restaurant_nombre\n",
    "        self.cocina_tipo = cocina_tipo\n",
    "        self.numero_servicio = 0\n",
    "\n",
    "    def describe_restautant(self):\n",
    "        print(self.restaurant_nombre, self.cocina_tipo)\n",
    "\n",
    "    def abrir_restaurant(self):\n",
    "        print(\"El restaurant esta abierto\")\n",
    "    \n",
    "    def set_numero_servicio(self, clientes_atendidos):\n",
    "        self.numero_servicio = clientes_atendidos\n",
    "    \n",
    "    def incrementar_numero_servicio(self, nueva_cantidad):\n",
    "        self.numero_servicio = self.numero_servicio + nueva_cantidad\n",
    "\n",
    "#crear instancias\n",
    "restaurant1 = Restaurant(\"Awakelab\", \"delivery\")\n",
    "print(restaurant1.restaurant_nombre)\n",
    "print(restaurant1.cocina_tipo)\n",
    "\n",
    "#instancia llama a los metodos\n",
    "restaurant1.describe_restautant()\n",
    "restaurant1.abrir_restaurant()\n",
    "\n",
    "#PARTE 2) Tres restaurantes: Comience con su clase de la Parte 1. \n",
    "# Cree tres instancias diferentes de la clase\n",
    "\n",
    "restaurant2 = Restaurant(\"Salvajes\", \"comida rapida\")\n",
    "restaurant3 = Restaurant(\"Kilombo\", \"Asiatica\")\n",
    "\n",
    "# y llame a describe_restaurant() para cada instancia.\n",
    "\n",
    "restaurant2.describe_restautant()\n",
    "restaurant3.describe_restautant()\n",
    "\n",
    "#PARTE 3) Número servicio:\n",
    "#Comience con su programa de la clase Restaurante. Agregue un atributo\n",
    "#llamado numero_servicio con un valor predeterminado de 0. Cree una\n",
    "#instancia llamada restaurante de esta clase. Imprima el número de clientes\n",
    "#que ha atendido el restaurante y luego cambie este valor e imprímalo\n",
    "#nuevamente.\n",
    "print(restaurant1.numero_servicio)\n",
    "numero = int(input(\"numero de clientes atendidos:\"))\n",
    "restaurant1.set_numero_servicio(numero)\n",
    "\n",
    "print(restaurant1.numero_servicio) \n",
    "numero1 = int(input(\"sume numero de clientes atendidos:\"))\n",
    "restaurant1.incrementar_numero_servicio(numero1)\n",
    "\n",
    "print(restaurant1.numero_servicio)"
   ]
  },
  {
   "cell_type": "code",
   "execution_count": null,
   "metadata": {},
   "outputs": [],
   "source": []
  }
 ],
 "metadata": {
  "kernelspec": {
   "display_name": "Python 3",
   "language": "python",
   "name": "python3"
  },
  "language_info": {
   "codemirror_mode": {
    "name": "ipython",
    "version": 3
   },
   "file_extension": ".py",
   "mimetype": "text/x-python",
   "name": "python",
   "nbconvert_exporter": "python",
   "pygments_lexer": "ipython3",
   "version": "3.7.1"
  }
 },
 "nbformat": 4,
 "nbformat_minor": 2
}
