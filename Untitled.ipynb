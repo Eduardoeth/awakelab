{
 "cells": [
  {
   "cell_type": "code",
   "execution_count": 12,
   "metadata": {},
   "outputs": [
    {
     "name": "stdout",
     "output_type": "stream",
     "text": [
      "¿Comprar entrada?. ingresar si o no: R:si\n",
      "¿Cual es tu edad? R:12\n",
      "El valor de la entrada de edad  12  es de: $ 7000\n",
      "¿Comprar entrada?. ingresar si o no: R:11\n",
      "¿Comprar entrada?. ingresar si o no: R:si\n",
      "¿Cual es tu edad? R:11\n",
      "El valor de la entrada de edad  11  es de: $ 5000\n",
      "¿Comprar entrada?. ingresar si o no: R:si\n",
      "¿Cual es tu edad? R:12\n",
      "El valor de la entrada de edad  12  es de: $ 7000\n",
      "¿Comprar entrada?. ingresar si o no: R:no\n",
      "El valor total de la entrada es de: $ 19000\n"
     ]
    }
   ],
   "source": [
    "n=1\n",
    "Costo_Total2=int(0)\n",
    "while n<2:\n",
    "    y=str(input(\"¿Comprar entrada?. ingresar si o no: R:\"))\n",
    "    S=str(\"si\")\n",
    "    N=str(\"no\")\n",
    "    if y==S:\n",
    "        x=int(input(\"¿Cual es tu edad? R:\"))\n",
    "        if x<=3:\n",
    "            Costo_Entrada=0\n",
    "        elif x>3 and x<12:\n",
    "            Costo_Entrada=5000\n",
    "        elif x>=12:\n",
    "            Costo_Entrada=7000\n",
    "        print(\"El valor de la entrada de edad \", x, \" es de: $\", int(Costo_Entrada))\n",
    "        Costo_Total2 = int(Costo_Total2) + int(Costo_Entrada)\n",
    "    if y==N:\n",
    "        n=n+2\n",
    "        break\n",
    "\n",
    "print(\"El valor total de la entrada es de: $\", int(Costo_Total2))"
   ]
  },
  {
   "cell_type": "code",
   "execution_count": 9,
   "metadata": {},
   "outputs": [
    {
     "name": "stdout",
     "output_type": "stream",
     "text": [
      "¿Comprar entrada?. ingresar si o no: R:si\n",
      "¿Cual es tu edad? R:12\n",
      "El valor de la entrada de edad  12  es de: $ 7000\n"
     ]
    }
   ],
   "source": [
    "    y=str(input(\"¿Comprar entrada?. ingresar si o no: R:\"))\n",
    "    S=str(\"si\")\n",
    "    N=str(\"no\")\n",
    "    if y==S:\n",
    "        x=int(input(\"¿Cual es tu edad? R:\"))\n",
    "        if x<=3:\n",
    "            Costo_Entrada=int(0)\n",
    "            print(\"El valor de la entrada de edad \", x, \" es de: $\", int(Costo_Entrada))\n",
    "        elif x>3 and x<12:\n",
    "            Costo_Entrada=int(5000)\n",
    "            print(\"El valor de la entrada de edad \", x, \" es de: $\", int(Costo_Entrada))\n",
    "        elif x>=12:\n",
    "            Costo_Entrada=int(7000)\n",
    "            print(\"El valor de la entrada de edad \", x, \" es de: $\", int(Costo_Entrada))"
   ]
  },
  {
   "cell_type": "code",
   "execution_count": null,
   "metadata": {},
   "outputs": [],
   "source": []
  }
 ],
 "metadata": {
  "kernelspec": {
   "display_name": "Python 3",
   "language": "python",
   "name": "python3"
  },
  "language_info": {
   "codemirror_mode": {
    "name": "ipython",
    "version": 3
   },
   "file_extension": ".py",
   "mimetype": "text/x-python",
   "name": "python",
   "nbconvert_exporter": "python",
   "pygments_lexer": "ipython3",
   "version": "3.7.1"
  }
 },
 "nbformat": 4,
 "nbformat_minor": 2
}
